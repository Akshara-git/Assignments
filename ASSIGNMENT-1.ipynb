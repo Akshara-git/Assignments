{
 "cells": [
  {
   "cell_type": "code",
   "execution_count": 3,
   "metadata": {},
   "outputs": [
    {
     "name": "stdout",
     "output_type": "stream",
     "text": [
      "enter the odd string wikipedia\n",
      "ipe\n"
     ]
    }
   ],
   "source": [
    "\"\"\"Q1) Input a string of odd length (minimum 9 characters), print a string made of the 3\n",
    "middle characters from input string.(eg :- if input is abcdefghi, answer should be def)\"\"\"\n",
    "\n",
    "s=input(\"enter the odd string \")\n",
    "l=len(s)\n",
    "start=(int(l/2))-1\n",
    "end=start+3\n",
    "print(s[start:end])"
   ]
  },
  {
   "cell_type": "code",
   "execution_count": 6,
   "metadata": {},
   "outputs": [
    {
     "name": "stdout",
     "output_type": "stream",
     "text": [
      "enter the number 10\n",
      "sum of 10 numbers is:  55.0\n",
      "average of 10 numbers is:  5.5\n"
     ]
    }
   ],
   "source": [
    "\"\"\"Q2) Calculate the sum and average of first n natural numbers\"\"\"\n",
    "\n",
    "#a. using for loop \n",
    "\n",
    "\n",
    "n=int(input(\"enter the number \"))\n",
    "sum=0\n",
    "avg=0\n",
    "for i in range(1,n+1):\n",
    "    sum=n*(n+1)/2\n",
    "    avg=sum/n\n",
    "print(\"sum of\",n,\"numbers is: \",sum)\n",
    "print(\"average of\",n,\"numbers is: \",avg)\n"
   ]
  },
  {
   "cell_type": "code",
   "execution_count": 5,
   "metadata": {},
   "outputs": [
    {
     "name": "stdout",
     "output_type": "stream",
     "text": [
      "enter the number 10\n",
      "sum of 10 numbers is:  55.0\n",
      "average of 10 numbers is:  5.5\n"
     ]
    }
   ],
   "source": [
    "\"\"\"Q2)\"\"\"\n",
    "#b. while loop\n",
    "\n",
    "n=int(input(\"enter the number \"))\n",
    "sum=0\n",
    "avg=0\n",
    "value=1\n",
    "while(value<n):\n",
    "    sum=n*(n+1)/2\n",
    "    avg=sum/n\n",
    "    value=value+1\n",
    "print(\"sum of\",n,\"numbers is: \",sum)\n",
    "print(\"average of\",n,\"numbers is: \",avg)"
   ]
  },
  {
   "cell_type": "code",
   "execution_count": 8,
   "metadata": {},
   "outputs": [
    {
     "name": "stdout",
     "output_type": "stream",
     "text": [
      "enter the size of list 5\n",
      "\n",
      "\n",
      "enter the number at 0 location: \n",
      "1.0\n",
      "enter the number at 1 location: \n",
      "2.9\n",
      "enter the number at 2 location: \n",
      "3.6\n",
      "enter the number at 3 location: \n",
      "5\n",
      "enter the number at 4 location: \n",
      "7\n",
      "The list is:  [1.0, 2.9, 3.6, 5.0, 7.0]\n"
     ]
    }
   ],
   "source": [
    "\"\"\"Q3) Accept list of 5 float numbers as input from user using loop and store values in a list\"\"\"\n",
    "\n",
    "list=[]\n",
    "n=int(input(\"enter the size of list \"))\n",
    "print(\"\\n\")\n",
    "for i in range(0,n):\n",
    "    print(\"enter the number at\",i,\"location: \")\n",
    "    num=float(input())\n",
    "    list.append(num)\n",
    "print(\"The list is: \",list)"
   ]
  },
  {
   "cell_type": "code",
   "execution_count": 9,
   "metadata": {},
   "outputs": [
    {
     "name": "stdout",
     "output_type": "stream",
     "text": [
      "1  \n",
      "1 2  \n",
      "1 2 3  \n",
      "1 2 3 4  \n",
      "1 2 3 4 5  \n"
     ]
    }
   ],
   "source": [
    "\"\"\"Q4)\"\"\"\n",
    "#a.\n",
    "\n",
    "rows=5\n",
    "for i in range(1,rows+1):\n",
    "    for j in range(1, i+ 1):\n",
    "        print(j, end=' ')\n",
    "    print(\" \")"
   ]
  },
  {
   "cell_type": "code",
   "execution_count": 10,
   "metadata": {},
   "outputs": [
    {
     "name": "stdout",
     "output_type": "stream",
     "text": [
      "1 2 3 4 5  \n",
      "1 2 3 4  \n",
      "1 2 3  \n",
      "1 2  \n",
      "1  \n",
      " \n"
     ]
    }
   ],
   "source": [
    "\"\"\"Q4)\"\"\"\n",
    "#b.\n",
    "\n",
    "rows=5\n",
    "for i in range(rows+1,0,-1):\n",
    "    for j in range(1,i):\n",
    "        print(j,end=' ')\n",
    "    print(\" \")"
   ]
  },
  {
   "cell_type": "code",
   "execution_count": 11,
   "metadata": {},
   "outputs": [
    {
     "name": "stdout",
     "output_type": "stream",
     "text": [
      "enter the number 834\n",
      "no.of digits in the number is:  3\n"
     ]
    }
   ],
   "source": [
    "\"\"\"Q5) input a number, count and print the total number of digits in that number using while\n",
    "loop\"\"\"\n",
    "\n",
    "n=int(input(\"enter the number \"))\n",
    "count=0\n",
    "while(n>0):\n",
    "    n=n//10\n",
    "    count=count+1\n",
    "print(\"no.of digits in the number is: \",count)"
   ]
  },
  {
   "cell_type": "code",
   "execution_count": 12,
   "metadata": {},
   "outputs": [
    {
     "name": "stdout",
     "output_type": "stream",
     "text": [
      "odd index list:   [6, 12, 18]\n",
      "even  index list:   [4, 12, 20, 28]\n",
      "Third list is:  [6, 12, 18, 4, 12, 20, 28]\n"
     ]
    }
   ],
   "source": [
    "\"\"\"Q6) Given two lists. Create a third list by picking an odd-index element from the first list\n",
    "and even index elements from second.\n",
    "listOne = [3, 6, 9, 12, 15, 18, 21]\n",
    "listTwo = [4, 8, 12, 16, 20, 24, 28]\"\"\"\n",
    "\n",
    "\n",
    "listOne = [3, 6, 9, 12, 15, 18, 21]\n",
    "listTwo = [4, 8, 12, 16, 20, 24, 28]\n",
    "oddindex=listOne[1::2]\n",
    "print(\"odd index list:  \",oddindex)\n",
    "evenindex=listTwo[0::2]\n",
    "print(\"even  index list:  \",evenindex)\n",
    "listThree=oddindex+evenindex\n",
    "print(\"Third list is: \",listThree)"
   ]
  },
  {
   "cell_type": "code",
   "execution_count": 14,
   "metadata": {},
   "outputs": [
    {
     "name": "stdout",
     "output_type": "stream",
     "text": [
      "smallest element is:  0\n"
     ]
    }
   ],
   "source": [
    "\"\"\"Q7) program to get the smallest number from a list.\"\"\"\n",
    "\n",
    "\n",
    "list=[3,6,9,0,2,5,7]\n",
    "small=list[0]\n",
    "for i in range(1,len(list)):\n",
    "    if list[i]<small:\n",
    "        small=list[i]\n",
    "        print(\"smallest element is: \",small)"
   ]
  },
  {
   "cell_type": "code",
   "execution_count": 15,
   "metadata": {},
   "outputs": [
    {
     "name": "stdout",
     "output_type": "stream",
     "text": [
      "[50, 4, 30, 20, 10]\n"
     ]
    }
   ],
   "source": [
    "\"\"\"Q8) Reverse the following list using for loop and range [ do not use reverse or\n",
    "reversed like functions] [10,20,30,4,50]\"\"\"\n",
    "\n",
    "\n",
    "list=[10,20,30,4,50]\n",
    "reverse=[]\n",
    "for i in range(len(list)-1,-1,-1):\n",
    "    reverse.append(list[i])\n",
    "print(reverse)"
   ]
  }
 ],
 "metadata": {
  "kernelspec": {
   "display_name": "Python 3",
   "language": "python",
   "name": "python3"
  },
  "language_info": {
   "codemirror_mode": {
    "name": "ipython",
    "version": 3
   },
   "file_extension": ".py",
   "mimetype": "text/x-python",
   "name": "python",
   "nbconvert_exporter": "python",
   "pygments_lexer": "ipython3",
   "version": "3.8.3"
  }
 },
 "nbformat": 4,
 "nbformat_minor": 4
}
